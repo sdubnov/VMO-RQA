{
 "metadata": {
  "name": "",
  "signature": "sha256:2e9cc8cbc6fe8c9389f161888c514c7539a61966b4f874b90c3925a1a4c0b5af"
 },
 "nbformat": 3,
 "nbformat_minor": 0,
 "worksheets": [
  {
   "cells": [
    {
     "cell_type": "code",
     "collapsed": false,
     "input": [
      "import vmo\n",
      "import vmo.analysis as van"
     ],
     "language": "python",
     "metadata": {},
     "outputs": [],
     "prompt_number": 1
    },
    {
     "cell_type": "markdown",
     "metadata": {},
     "source": [
      "## Build a VMO / Oracle on Stock Market Data"
     ]
    },
    {
     "cell_type": "code",
     "collapsed": false,
     "input": [
      "%load_ext autoreload\n",
      "%autoreload 2\n",
      "from __future__ import division \n",
      "import datetime\n",
      "import numpy as np\n",
      "import matplotlib.pyplot as plt\n",
      "from matplotlib.finance import quotes_historical_yahoo\n",
      "from matplotlib.dates import YearLocator, MonthLocator, DateFormatter\n",
      "\n",
      "%matplotlib inline\n",
      "\n",
      "date1 = datetime.date(1995, 1, 1)  # start date\n",
      "date2 = datetime.date(2014, 5, 28)  # end date\n",
      "# get quotes from yahoo finance\n",
      "quotes = quotes_historical_yahoo(\"INTC\", date1, date2)\n",
      "if len(quotes) == 0:\n",
      "    raise SystemExit\n",
      "\n",
      "# unpack quotes\n",
      "dates = np.array([q[0] for q in quotes], dtype=int)\n",
      "close_v = np.array([q[2] for q in quotes])\n",
      "volume = np.array([q[5] for q in quotes])[1:]\n",
      "\n",
      "# take diff of close value\n",
      "# this makes len(diff) = len(close_t) - 1\n",
      "# therefore, others quantity also need to be shifted\n",
      "diff = close_v[1:] - close_v[:-1]\n",
      "dates = dates[1:]\n",
      "close_v = close_v[1:]\n",
      "\n",
      "# pack diff and volume for training\n",
      "X = np.column_stack([diff, volume])"
     ],
     "language": "python",
     "metadata": {},
     "outputs": [
      {
       "ename": "ImportError",
       "evalue": "cannot import name quotes_historical_yahoo",
       "output_type": "pyerr",
       "traceback": [
        "\u001b[0;31m---------------------------------------------------------------------------\u001b[0m\n\u001b[0;31mImportError\u001b[0m                               Traceback (most recent call last)",
        "\u001b[0;32m<ipython-input-2-9f13548424c3>\u001b[0m in \u001b[0;36m<module>\u001b[0;34m()\u001b[0m\n\u001b[1;32m      5\u001b[0m \u001b[0;32mimport\u001b[0m \u001b[0mnumpy\u001b[0m \u001b[0;32mas\u001b[0m \u001b[0mnp\u001b[0m\u001b[0;34m\u001b[0m\u001b[0m\n\u001b[1;32m      6\u001b[0m \u001b[0;32mimport\u001b[0m \u001b[0mmatplotlib\u001b[0m\u001b[0;34m.\u001b[0m\u001b[0mpyplot\u001b[0m \u001b[0;32mas\u001b[0m \u001b[0mplt\u001b[0m\u001b[0;34m\u001b[0m\u001b[0m\n\u001b[0;32m----> 7\u001b[0;31m \u001b[0;32mfrom\u001b[0m \u001b[0mmatplotlib\u001b[0m\u001b[0;34m.\u001b[0m\u001b[0mfinance\u001b[0m \u001b[0;32mimport\u001b[0m \u001b[0mquotes_historical_yahoo\u001b[0m\u001b[0;34m\u001b[0m\u001b[0m\n\u001b[0m\u001b[1;32m      8\u001b[0m \u001b[0;32mfrom\u001b[0m \u001b[0mmatplotlib\u001b[0m\u001b[0;34m.\u001b[0m\u001b[0mdates\u001b[0m \u001b[0;32mimport\u001b[0m \u001b[0mYearLocator\u001b[0m\u001b[0;34m,\u001b[0m \u001b[0mMonthLocator\u001b[0m\u001b[0;34m,\u001b[0m \u001b[0mDateFormatter\u001b[0m\u001b[0;34m\u001b[0m\u001b[0m\n\u001b[1;32m      9\u001b[0m \u001b[0;34m\u001b[0m\u001b[0m\n",
        "\u001b[0;31mImportError\u001b[0m: cannot import name quotes_historical_yahoo"
       ]
      },
      {
       "output_type": "stream",
       "stream": "stderr",
       "text": [
        "/usr/local/lib/python2.7/dist-packages/matplotlib/font_manager.py:273: UserWarning: Matplotlib is building the font cache using fc-list. This may take a moment.\n",
        "  warnings.warn('Matplotlib is building the font cache using fc-list. This may take a moment.')\n"
       ]
      }
     ],
     "prompt_number": 2
    },
    {
     "cell_type": "markdown",
     "metadata": {},
     "source": [
      "### VMO - Variable Markov Oracle"
     ]
    },
    {
     "cell_type": "code",
     "collapsed": false,
     "input": [
      "features = {}\n",
      "frames_per = 1\n",
      "stock_data = np.divide(np.add(X, -np.mean(X,0)), np.std(X,0))\n",
      "print stock_data.shape\n",
      "features['diffnvolume'] = stock_data\n",
      "\n",
      "r = (0.0, 8.0, 0.1)\n",
      "ideal_t = vmo.find_threshold(stock_data, r, dim=stock_data.shape[1])\n",
      "\n",
      "x_a = [i[1] for i in ideal_t[1]]\n",
      "y_a = [i[0] for i in ideal_t[1]]\n",
      "plt.figure()\n",
      "plt.plot(x_a, y_a, linewidth = 2)\n",
      "plt.title('IR vs. Threshold Value', fontsize = 18)\n",
      "plt.grid(b = 'on')\n",
      "plt.xlabel('Threshold', fontsize = 14)\n",
      "plt.ylabel('IR', fontsize = 14)"
     ],
     "language": "python",
     "metadata": {},
     "outputs": []
    },
    {
     "cell_type": "markdown",
     "metadata": {},
     "source": [
      "Build the best oracle by choosing the ideal threshold (one that gives most informative oracle). "
     ]
    },
    {
     "cell_type": "code",
     "collapsed": false,
     "input": [
      "best_oracle = vmo.build_oracle(stock_data, flag='a', threshold=ideal_t[0][1], dim=stock_data.shape[1])"
     ],
     "language": "python",
     "metadata": {},
     "outputs": []
    },
    {
     "cell_type": "markdown",
     "metadata": {},
     "source": [
      "# Self-similarity matrix using reverse suffix links"
     ]
    },
    {
     "cell_type": "code",
     "collapsed": false,
     "input": [
      "rs = van.create_selfsim(best_oracle, method = 'rsfx')\n",
      "#print rs\n",
      "fig = plt.figure()\n",
      "ax = fig.add_subplot(111)\n",
      "ax.imshow(rs, origin = 'lower', cmap = 'Greys', interpolation = 'nearest', extent = [dates[0], dates[-1], dates[0], dates[-1]])\n",
      "ax.xaxis.set_major_locator(years)\n",
      "ax.xaxis.set_major_formatter(yearsFmt)\n",
      "ax.xaxis.set_minor_locator(months)\n",
      "ax.yaxis.set_major_locator(years)\n",
      "ax.yaxis.set_major_formatter(yearsFmt)\n",
      "ax.yaxis.set_minor_locator(months)\n",
      "ax.autoscale_view()\n",
      "\n",
      "# format the coords message box\n",
      "ax.fmt_xdata = DateFormatter('%Y-%m-%d')\n",
      "ax.fmt_ydata = DateFormatter('%Y-%m-%d')\n",
      "fig.autofmt_xdate()\n",
      "plt.tight_layout()"
     ],
     "language": "python",
     "metadata": {},
     "outputs": []
    },
    {
     "cell_type": "code",
     "collapsed": false,
     "input": [],
     "language": "python",
     "metadata": {},
     "outputs": []
    }
   ],
   "metadata": {}
  }
 ]
}