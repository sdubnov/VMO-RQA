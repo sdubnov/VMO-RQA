{
 "cells": [
  {
   "cell_type": "code",
   "execution_count": 3,
   "metadata": {
    "collapsed": false
   },
   "outputs": [],
   "source": [
    "import vmo \n",
    "import vmo.analysis as van\n",
    "import vmo.analysis.segmentation as vse\n",
    "import csv\n",
    "import numpy as np\n",
    "np.set_printoptions(threshold='nan')\n",
    "\n",
    "from collections import Counter\n",
    "\n",
    "import math\n",
    "import entropy\n",
    "import matplotlib as mpl \n",
    "\n",
    "import matplotlib.pyplot as plt\n",
    "\n",
    "import matplotlib.cm as cm\n",
    "from matplotlib import patches\n",
    "#import plotly.plotly as py\n",
    "\n",
    "\n",
    "import librosa\n",
    "\n",
    "from nolds import lyap_r, corr_dim\n",
    "\n",
    "import scipy as sc\n",
    "import scipy.sparse as sp\n",
    "from scipy.sparse import spdiags\n",
    "import scipy.stats\n",
    "\n",
    "\n",
    "import pylab \n",
    "import scipy.weave\n",
    "import scipy.io.wavfile as wav\n",
    "\n",
    "import operator\n",
    "\n",
    "#from pyunicorn.timeseries import RecurrencePlot, RecurrenceNetwork\n",
    "\n",
    "#from python_speech_features import mfcc\n",
    "#from python_speech_features import logfbank\n",
    "\n",
    "from pylab import * # show, scatter, xlim, ylim\n",
    "from random import randint\n",
    "from random import randrange\n",
    "\n",
    "import warnings\n",
    "warnings.filterwarnings('ignore')\n",
    "warnings.catch_warnings()\n",
    "\n",
    "%matplotlib inline\n",
    "#%pylab inline"
   ]
  },
  {
   "cell_type": "code",
   "execution_count": 4,
   "metadata": {
    "collapsed": true
   },
   "outputs": [],
   "source": [
    "# time series standard embedding \n",
    "def timeseries_embedding(series=[], m=3, time_delay=1):    \n",
    "    m = int(m) # m = embedding dimension = nb of columns in the embedded time series matrix\n",
    "    time_delay = int(time_delay)\n",
    "    \n",
    "    n = len(series) \n",
    "    \n",
    "    nb_vectors = n - (m-1) * time_delay # nb of vectors in the embedded time series matrix\n",
    "    embedded = np.empty((nb_vectors, m), dtype=\"float32\") # embedded series has nb_vectors rows and m columns\n",
    "\n",
    "    #print embedded.shape\n",
    "    for j in range(0, m):\n",
    "        idx = j * time_delay\n",
    "        \n",
    "        for k in range(0,nb_vectors):\n",
    "            embedded[k,j] = series[idx]\n",
    "            idx += 1\n",
    "    return embedded"
   ]
  },
  {
   "cell_type": "code",
   "execution_count": 5,
   "metadata": {
    "collapsed": true
   },
   "outputs": [],
   "source": [
    "def VMO_GEN(embedded_timeseries, r_threshold, dim = 3):\n",
    "    threshold = vmo.find_threshold(embedded_timeseries, r = r_threshold, dim = dim)\n",
    "    \n",
    "    #print threshold[0][1]\n",
    "    \n",
    "    ideal_t = threshold[0][1]\n",
    "    x_t = [i[1] for i in threshold[1]]\n",
    "    y_t = [i[0] for i in threshold[1]]\n",
    "    \n",
    "    ir = threshold[0][0]\n",
    "\n",
    "    plt.figure(figsize=(12,2))\n",
    "    plt.plot(x_t, y_t, linewidth = 2)\n",
    "    plt.hold('on')\n",
    "    plt.vlines(ideal_t, 0.0, max(y_t), colors = 'k',linestyle = 'dashed',linewidth = 2)\n",
    "    plt.grid('on')\n",
    "    plt.legend(['IR values', 'Selected threshold'], loc=1)\n",
    "    plt.title('Threshold value versus Information Rate', fontsize = 18)\n",
    "    plt.xlabel('Threshold Value',fontsize = 14)\n",
    "    plt.ylabel('Summed IR', fontsize = 14)\n",
    "    plt.tight_layout()\n",
    "    \n",
    "    \n",
    "    ts_vmo = vmo.build_oracle(embedded_timeseries, flag='a', threshold=ideal_t, dim=dim)\n",
    "\n",
    "    methods = ['sfx', 'lrs', 'rsfx']\n",
    "\n",
    "    plt.figure(figsize = (12,4))\n",
    "    for i,m in enumerate(methods):\n",
    "        recurrence_vmo = van.create_selfsim(ts_vmo, method=m)\n",
    "        \n",
    "        plt.subplot(1,3,i+1)\n",
    "        plt.imshow(recurrence_vmo, interpolation='nearest', aspect='auto', cmap='Greys')\n",
    "    \n",
    "        plt.title(m, fontsize=14)\n",
    "        plt.tight_layout()\n",
    "    \n",
    "    \n",
    "    return [ts_vmo, threshold[0][1], ir]\n",
    "    "
   ]
  },
  {
   "cell_type": "code",
   "execution_count": 6,
   "metadata": {
    "collapsed": true
   },
   "outputs": [],
   "source": [
    "def Recurrence_VMO(TS_VMO):\n",
    "    recurrence_vmo = van.create_selfsim(TS_VMO, method='lrs')\n",
    "    \n",
    "    return recurrence_vmo\n",
    "\n",
    "    #plt.figure(figsize = (6,4))\n",
    "    #plt.imshow(recurrence_vmo, interpolation='nearest', aspect='auto', cmap='Blues')\n",
    "    #plt.title('lrs', fontsize=14)"
   ]
  },
  {
   "cell_type": "code",
   "execution_count": 7,
   "metadata": {
    "collapsed": true
   },
   "outputs": [],
   "source": [
    "def Recurrence_Rate(recurrence_vmo):\n",
    "    ln= len(recurrence_vmo)\n",
    "    RR = (np.sum(recurrence_vmo))/float(ln*ln)    \n",
    "    return RR"
   ]
  },
  {
   "cell_type": "code",
   "execution_count": 8,
   "metadata": {
    "collapsed": true
   },
   "outputs": [],
   "source": [
    "# CORRELATION SUM i.e. estimates the CORRELATION DIMENSION D2\n",
    "def Correlation_Sum(recurrence_vmo):\n",
    "    ln = len(recurrence_vmo)\n",
    "    C = (np.sum(recurrence_vmo) - np.sum(recurrence_vmo.diagonal()))/float(ln*ln)\n",
    "    return C\n",
    " "
   ]
  },
  {
   "cell_type": "code",
   "execution_count": 9,
   "metadata": {
    "collapsed": true
   },
   "outputs": [],
   "source": [
    "# CORRELATION ENTROPY (2nd order Rényi entropy)\n",
    "def Correlation_Entropy(recurrence_vmo):\n",
    "    C = Correlation_Sum(recurrence_vmo)\n",
    "    K2 = -log(C)\n",
    "    return K2"
   ]
  },
  {
   "cell_type": "code",
   "execution_count": 10,
   "metadata": {
    "collapsed": true
   },
   "outputs": [],
   "source": [
    "def Determinism(recurrence_vmo, diagonal_sum):    \n",
    "    nume = diagonal_sum #np.sum(L)\n",
    "    denom = np.sum(recurrence_vmo)\n",
    "    if (denom > 0):\n",
    "        DET =  nume / denom        \n",
    "    else: \n",
    "        DET = 'NA'\n",
    "        \n",
    "    return DET"
   ]
  },
  {
   "cell_type": "code",
   "execution_count": 11,
   "metadata": {
    "collapsed": true
   },
   "outputs": [],
   "source": [
    "def Laminarity(recurrence_vmo, vsum):\n",
    "    if (np.sum(recurrence_vmo) != 0):\n",
    "        LAM = vsum / np.sum(recurrence_vmo)        \n",
    "    else:\n",
    "        LAM = 'NA'\n",
    "        \n",
    "    return LAM\n"
   ]
  },
  {
   "cell_type": "code",
   "execution_count": 12,
   "metadata": {
    "collapsed": true
   },
   "outputs": [],
   "source": [
    "def Divergence(lmax):\n",
    "    if (lmax > 0):\n",
    "        DIV = np.divide(1,lmax) \n",
    "    else:\n",
    "        DIV = 'NA'\n",
    "        \n",
    "    return DIV\n",
    "    "
   ]
  },
  {
   "cell_type": "code",
   "execution_count": 13,
   "metadata": {
    "collapsed": true
   },
   "outputs": [],
   "source": [
    "def Diagonals(recurrence_vmo):\n",
    "    # DIAGONALS\n",
    "    LOI = 0\n",
    "    newd = {}\n",
    "    mat = np.zeros((recurrence_vmo.shape[0]*2+1,recurrence_vmo.shape[1]))\n",
    "\n",
    "    for ii in range(-len(recurrence_vmo), len(recurrence_vmo)):    \n",
    "        newd[ii]= np.diagonal(recurrence_vmo, offset = ii) \n",
    "\n",
    "\n",
    "    for rw in range (0, len(recurrence_vmo)): \n",
    "        for cl in range (0, len(recurrence_vmo)):\n",
    "            if(rw == cl):\n",
    "                if (recurrence_vmo[rw][cl] == 1):\n",
    "                    LOI += 1\n",
    "        \n",
    "    for i in range (-len(recurrence_vmo), len(recurrence_vmo)):   \n",
    "        for j in range(len(newd[i])):\n",
    "            mat[i+len(recurrence_vmo),j] = newd[i][j] \n",
    "\n",
    "    diag_idx = 0\n",
    "\n",
    "    diagonals = np.zeros(recurrence_vmo.size)\n",
    "    for drow in range(0, len(mat)):    \n",
    "        diag_sum = 0\n",
    "        for dcol in range(0, mat.shape[1]):       \n",
    "            if (mat[drow,dcol] == 1):\n",
    "                diag_sum += 1           \n",
    "            if (mat[drow,dcol] == 0):\n",
    "                if (diag_sum > 0):\n",
    "                    diagonals[diag_idx] = diag_sum\n",
    "                    diag_idx += 1\n",
    "                    diag_sum = 0\n",
    "        if (diag_sum > 0):\n",
    "            diagonals[diag_idx] = diag_sum;\n",
    "            diag_idx += 1\n",
    "        \n",
    "        \n",
    "    dia_cnt = 0\n",
    "    dia_sum = 0\n",
    "    for indx in range(0, len(diagonals)):\n",
    "        if (diagonals[indx] >= 2):\n",
    "            dia_sum += diagonals[indx]\n",
    "            dia_cnt += 1\n",
    "\n",
    "    if (dia_cnt > 0):\n",
    "        av_diag = dia_sum / dia_cnt        \n",
    "    else: \n",
    "        av_diag = 'NA'    \n",
    "\n",
    "        \n",
    "        \n",
    "    # Longest Diagonal Length without the Line of Identity (LOI):\n",
    "    newdiag = np.copy(diagonals) # copy array into array newdiag\n",
    "\n",
    "    max_idx= np.argmax(newdiag)  # get the index of the longest diagonal (could be LOI)\n",
    "\n",
    "    newdiag[max_idx] = -1 # remove the index of LOI\n",
    "    L_max = newdiag.max()  # get the second longest diagonal\n",
    "    \n",
    "    return [dia_sum, L_max, diagonals, av_diag]"
   ]
  },
  {
   "cell_type": "code",
   "execution_count": 14,
   "metadata": {
    "collapsed": false
   },
   "outputs": [],
   "source": [
    "def Entropy_Diag(diagonals): # Entropy of diagonal line lengths\n",
    "    import entropy\n",
    "    u, inv = np.unique(diagonals, return_inverse=True)\n",
    "    n = np.bincount(inv)\n",
    "\n",
    "    # L_entr = 0\n",
    "    \n",
    "    #for i in range(0, len(n)):\n",
    "        #L_entr += - (float(n[i])/float(len(diagonals))) * math.log(float(n[i])/float(len(diagonals)),2)\n",
    "    \n",
    "    L_entr = entropy.shannon_entropy('diagonals')\n",
    "    \n",
    "    return L_entr\n",
    "\n"
   ]
  },
  {
   "cell_type": "code",
   "execution_count": 15,
   "metadata": {
    "collapsed": true
   },
   "outputs": [],
   "source": [
    "def Verticals(recurrence_vmo):\n",
    "    \n",
    "    #find vertical lines\n",
    "    idx = 0\n",
    "    vertical = np.zeros(recurrence_vmo.size)\n",
    "    for c in range(0, recurrence_vmo.shape[1]):       \n",
    "        s = 0\n",
    "        for r in range(0, len(recurrence_vmo)):\n",
    "            if (recurrence_vmo[r,c] == 1):\n",
    "                s += 1           \n",
    "\n",
    "            if (recurrence_vmo[r,c] == 0):\n",
    "                if (s > 0):\n",
    "                    vertical[idx] = s\n",
    "                    idx += 1\n",
    "                    s = 0\n",
    "        if (s > 0):\n",
    "            vertical[idx] = s;\n",
    "            idx += 1\n",
    "\n",
    "\n",
    "    vcnt = 0\n",
    "    vsum = 0\n",
    "    for V in range(0, len(vertical)):\n",
    "        if (vertical[V] >= 2):\n",
    "            vsum += vertical[V]\n",
    "            vcnt += 1\n",
    "\n",
    "    #----------------------------------------------------------------------------------------------------------   \n",
    "    # Longest Vertical Line\n",
    "    V_max = vertical.max()\n",
    "    \n",
    "    #----------------------------------------------------------------------------------------------------------   \n",
    "    # TRAPPING TIME\n",
    "    if (vcnt > 0):\n",
    "        TT = vsum /vcnt        \n",
    "    else: \n",
    "        TT = 'NA'   \n",
    "    \n",
    "    return [vsum, V_max, vertical, TT]\n",
    "    \n"
   ]
  },
  {
   "cell_type": "code",
   "execution_count": 16,
   "metadata": {
    "collapsed": true
   },
   "outputs": [],
   "source": [
    "def Entropy_Vert(vertical):\n",
    "    import entropy\n",
    "    # Entropy of verticals\n",
    "    uv, vinv = np.unique(vertical, return_inverse=True)\n",
    "    nv = np.bincount(vinv)\n",
    "\n",
    "    #V_entr = 0\n",
    "\n",
    "    #for iv in range(0, len(nv)):\n",
    "        #V_entr += - (float(nv[iv])/float(len(vertical))) * math.log(float(nv[iv])/float(len(vertical)),2)\n",
    "\n",
    "    V_entr = entropy.shannon_entropy('vertical')\n",
    "    \n",
    "    return V_entr"
   ]
  },
  {
   "cell_type": "code",
   "execution_count": 17,
   "metadata": {
    "collapsed": true
   },
   "outputs": [],
   "source": [
    "def White_Verticals(recurrence_vmo):\n",
    "    \n",
    "    # find white vertical lines\n",
    "    indx = 0\n",
    "    white = np.zeros(recurrence_vmo.size)\n",
    "    for col in range(0, recurrence_vmo.shape[1]):    \n",
    "        sm = 0\n",
    "        for row in range(0, len(recurrence_vmo)):\n",
    "            if (recurrence_vmo[row,col] == 0):\n",
    "                sm += 1     \n",
    "            if (recurrence_vmo[row,col] == 1):\n",
    "                if (sm > 0):\n",
    "                    white[indx] = sm\n",
    "                    indx += 1\n",
    "                    sm = 0\n",
    "        if (sm > 0):\n",
    "            white[indx] = sm;\n",
    "            indx += 1\n",
    "\n",
    "    wcnt = 0\n",
    "    wsum = 0\n",
    "    for w in range(0, len(white)):\n",
    "        if (white[w] >= 2):\n",
    "            wsum += white[w]\n",
    "            wcnt += 1\n",
    "\n",
    "    if (wcnt > 0):\n",
    "        W = wsum /wcnt\n",
    "    else: \n",
    "        W = 'NA'  \n",
    "\n",
    "    W_max = white.max()  # longest white vertical line\n",
    "    \n",
    "    return [W_max, white, W] #longest whilte vertical line, the matrix of white verticals, and the average white vertical\n"
   ]
  },
  {
   "cell_type": "code",
   "execution_count": 18,
   "metadata": {
    "collapsed": true
   },
   "outputs": [],
   "source": [
    "def Entropy_WhiteVert(white):\n",
    "    import entropy\n",
    "    # Entropy of white vertical lines\n",
    "    w, winv = np.unique(white, return_inverse=True)\n",
    "    wn = np.bincount(winv)\n",
    "\n",
    "    #W_entr = 0\n",
    "\n",
    "    #for w in range(0, len(wn)):\n",
    "        #W_entr += - (float(wn[w])/float(len(white))) * math.log(float(wn[w])/float(len(white)),2)\n",
    "\n",
    "    W_entr = entropy.shannon_entropy('white')\n",
    "    \n",
    "    return W_entr\n",
    "    "
   ]
  },
  {
   "cell_type": "code",
   "execution_count": 22,
   "metadata": {
    "collapsed": false
   },
   "outputs": [
    {
     "name": "stdout",
     "output_type": "stream",
     "text": [
      "(5405,)\n"
     ]
    }
   ],
   "source": [
    "#song_path = '/Users/admin/Documents/vmo-master/SILENCETRIMMED/42_anger.mir.wav' # mac notebook\n",
    "song_path = '/usr/labri/pmouawad/Documents/vmo-master/SILENCETRIMMED/42_anger.mir.wav' # Linux in office\n",
    "\n",
    "#song_path = '/data/pmouawad/PythonPackages/42_anger.mir.wav' # server aivcalc2\n",
    "sr = 8820\n",
    "hop_length = 512\n",
    "\n",
    "tseries, sr = librosa.load(song_path, sr=sr)\n",
    "\n",
    "print tseries.shape\n",
    "\n",
    "cqt = librosa.core.cqt(tseries, sr=sr, hop_length=hop_length)\n",
    "\n",
    "#cqt_stack= librosa.feature.stack_memory(cqt, n_steps=3)\n",
    "features = cqt.T\n"
   ]
  },
  {
   "cell_type": "code",
   "execution_count": 23,
   "metadata": {
    "collapsed": false
   },
   "outputs": [
    {
     "name": "stdout",
     "output_type": "stream",
     "text": [
      "0.0155571215263\n"
     ]
    }
   ],
   "source": [
    "# compute the Lyapunov Exponent from the time series using Rosenstein's method.\n",
    "\n",
    "dim = 3 # by method of false-nearest neighbour\n",
    "tau = 7 # by method of first minimum mutual information\n",
    "\n",
    "LE = lyap_r(tseries, emb_dim=dim,tau=tau)\n",
    "print LE\n",
    "\n"
   ]
  },
  {
   "cell_type": "code",
   "execution_count": 25,
   "metadata": {
    "collapsed": false
   },
   "outputs": [
    {
     "data": {
      "image/png": "[encoded data removed]",
      "text/plain": [
       "<matplotlib.figure.Figure at 0x7f3ec9ef2dd0>"
      ]
     },
     "metadata": {},
     "output_type": "display_data"
    },
    {
     "data": {
      "image/png": "[encoded data removed]",
      "text/plain": [
       "<matplotlib.figure.Figure at 0x7f3f664a1c10>"
      ]
     },
     "metadata": {},
     "output_type": "display_data"
    }
   ],
   "source": [
    "from scipy.stats import entropy\n",
    "\n",
    "r_threshold = (0, 1.01, 0.01)\n",
    "    \n",
    "tseries_embed = timeseries_embedding(tseries, dim, tau) # embed the timeseries\n",
    "\n",
    "# Generate the VMO from the embedded timeseries\n",
    "# Return the VMO (ts_vmo), the ideal threshold (eps) and the optimal information rate (IR)\n",
    "ts_vmo, eps, ir  = VMO_GEN(tseries_embed, r_threshold, dim=dim) # get the VMO"
   ]
  },
  {
   "cell_type": "code",
   "execution_count": 24,
   "metadata": {
    "collapsed": false
   },
   "outputs": [
    {
     "data": {
      "image/png": "[encoded data removed]",
      "text/plain": [
       "<matplotlib.figure.Figure at 0x7f3efe0abad0>"
      ]
     },
     "metadata": {},
     "output_type": "display_data"
    },
    {
     "data": {
      "image/png": "[encoded data removed]",
      "text/plain": [
       "<matplotlib.figure.Figure at 0x7f3e9599ea10>"
      ]
     },
     "metadata": {},
     "output_type": "display_data"
    }
   ],
   "source": [
    "### ####################################################################################\n",
    "#THIS PART CREATES VMO FROM CQT\n",
    "\n",
    "ts_vmo, eps, ir  = VMO_GEN(features, r_threshold, dim=features.shape[1]) # get the VMO\n",
    "########################################################################################\n",
    "\n",
    "\n",
    "recurrence_vmo = Recurrence_VMO(ts_vmo)  # get the VMO recurrence plot  "
   ]
  },
  {
   "cell_type": "code",
   "execution_count": 37,
   "metadata": {
    "collapsed": true
   },
   "outputs": [],
   "source": [
    "# various statistics from the diagonals: diagonal_sum, Longest diagonal L_max, the diagonals matrix, and L: average diag\n",
    "diag_stats = Diagonals(recurrence_vmo)  #returns [dia_sum, L_max, diagonals, av_diag]\n",
    "diagonals = diag_stats[2]\n"
   ]
  },
  {
   "cell_type": "code",
   "execution_count": 38,
   "metadata": {
    "collapsed": true
   },
   "outputs": [],
   "source": [
    "#various statistics from the verticals: vsum V_max, vertical matrix, Trapping Time TT.\n",
    "vert_stats = Verticals(recurrence_vmo) # returns [vsum, V_max, vertical, TT]"
   ]
  },
  {
   "cell_type": "code",
   "execution_count": 39,
   "metadata": {
    "collapsed": true
   },
   "outputs": [],
   "source": [
    "#various statistics from the white vertical lines: Longest white vertical: W_max, the matrix white, and W: average white vertical\n",
    "\n",
    "white_stats = White_Verticals(recurrence_vmo) #returns [W_max, white, W]"
   ]
  },
  {
   "cell_type": "code",
   "execution_count": 40,
   "metadata": {
    "collapsed": false
   },
   "outputs": [],
   "source": [
    "\n",
    "DET = Determinism(recurrence_vmo, diag_stats[0])\n",
    "DIV = Divergence(diag_stats[1])\n",
    "RR = Recurrence_Rate(recurrence_vmo)\n",
    "L_max = diag_stats[1]\n",
    "L = diag_stats[3]\n",
    "L_entr = Entropy_Diag(diagonals)\n",
    "\n",
    "LAM = Laminarity(recurrence_vmo, vert_stats[0])\n",
    "V_max = vert_stats[1]\n",
    "TT = vert_stats[3]\n",
    "V_entr = Entropy_Vert(vert_stats[2])\n",
    "\n",
    "W_max = white_stats[0]\n",
    "W = white_stats[2]\n",
    "W_entr = Entropy_WhiteVert(white_stats[1])\n",
    "\n",
    "DET_RR = DET / RR\n",
    "LAM_DET = LAM / DET\n"
   ]
  },
  {
   "cell_type": "code",
   "execution_count": 41,
   "metadata": {
    "collapsed": true
   },
   "outputs": [],
   "source": [
    "#Assuming rqa_measures is a flat list\n",
    "with open('MAV_CQT_VMORQA_TSALP.csv', \"w\") as csvfile:\n",
    "    fieldnames=['Sound', 'RR', 'DET', 'L', 'L_max', 'DIV', 'L_entr', 'LAM', 'TT', 'V_max', 'V_entr', 'DET_RR','LAM_DET', 'W', 'W_max', 'W_entr']    \n",
    "    writer = csv.DictWriter(csvfile, fieldnames=fieldnames)\n",
    "    writer.writeheader()\n",
    "    writer.writerow({'Sound': '42_anger', 'RR': RR, 'DET': DET,'L': L, 'L_max': L_max, 'DIV': DIV, 'L_entr': L_entr, 'LAM': LAM, 'TT':TT, 'V_max': V_max, 'V_entr': V_entr, 'DET_RR': DET_RR, 'LAM_DET': LAM_DET, 'W': W, 'W_max': W_max, 'W_entr': W_entr})   "
   ]
  }
 ],
 "metadata": {
  "kernelspec": {
   "display_name": "Python 2",
   "language": "python",
   "name": "python2"
  },
  "language_info": {
   "codemirror_mode": {
    "name": "ipython",
    "version": 2
   },
   "file_extension": ".py",
   "mimetype": "text/x-python",
   "name": "python",
   "nbconvert_exporter": "python",
   "pygments_lexer": "ipython2",
   "version": "2.7.6"
  }
 },
 "nbformat": 4,
 "nbformat_minor": 0
}
