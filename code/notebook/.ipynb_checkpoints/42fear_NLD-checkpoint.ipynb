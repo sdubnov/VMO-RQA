{
 "cells": [
  {
   "cell_type": "code",
   "execution_count": 1,
   "metadata": {
    "collapsed": false
   },
   "outputs": [
    {
     "name": "stderr",
     "output_type": "stream",
     "text": [
      "/usr/local/lib/python2.7/dist-packages/librosa/core/audio.py:37: UserWarning: Could not import scikits.samplerate. Falling back to scipy.signal\n",
      "  warnings.warn('Could not import scikits.samplerate. '\n"
     ]
    },
    {
     "name": "stdout",
     "output_type": "stream",
     "text": [
      "pyunicorn: Package netCDF4 could not be loaded. Some functionality in class Data might not be available!\n",
      "pyunicorn: Package netCDF4 could not be loaded. Some functionality in class NetCDFDictionary might not be available!\n"
     ]
    },
    {
     "data": {
      "text/plain": [
       "catch_warnings()"
      ]
     },
     "execution_count": 1,
     "metadata": {},
     "output_type": "execute_result"
    }
   ],
   "source": [
    "#import vmo \n",
    "#import vmo.analysis as van\n",
    "#import vmo.analysis.segmentation as vse\n",
    "import csv\n",
    "import numpy as np\n",
    "np.set_printoptions(threshold='nan')\n",
    "\n",
    "from collections import Counter\n",
    "\n",
    "import math\n",
    "import entropy\n",
    "import matplotlib as mpl \n",
    "\n",
    "import matplotlib.pyplot as plt\n",
    "\n",
    "import matplotlib.cm as cm\n",
    "from matplotlib import patches\n",
    "#import plotly.plotly as py\n",
    "\n",
    "\n",
    "import librosa\n",
    "\n",
    "from nolds import lyap_r, corr_dim, sampen, dfa\n",
    "\n",
    "import scipy as sc\n",
    "import scipy.sparse as sp\n",
    "from scipy.sparse import spdiags\n",
    "import scipy.stats\n",
    "\n",
    "\n",
    "import pylab \n",
    "import scipy.weave\n",
    "import scipy.io.wavfile as wav\n",
    "\n",
    "import operator\n",
    "\n",
    "#from pyunicorn.timeseries import RecurrencePlot, RecurrenceNetwork\n",
    "\n",
    "from pyrqa.settings import Settings\n",
    "from pyrqa.neighbourhood import FixedRadius\n",
    "from pyrqa.metric import EuclideanMetric\n",
    "from pyrqa.computation import RQAComputation\n",
    "\n",
    "from pyrqa.computation import RecurrencePlotComputation\n",
    "from pyrqa.image_generator import ImageGenerator\n",
    "from pyrqa.recurrence_analysis import SubMatrices\n",
    "\n",
    "from pyrqa.recurrence_plot.fixed_radius.plain.baseline import Baseline\n",
    "\n",
    "from pyrqa.result import RQAResult\n",
    "\n",
    "\n",
    "#from python_speech_features import mfcc\n",
    "#from python_speech_features import logfbank\n",
    "\n",
    "from pylab import * # show, scatter, xlim, ylim\n",
    "from random import randint\n",
    "from random import randrange\n",
    "\n",
    "import warnings\n",
    "warnings.filterwarnings('ignore')\n",
    "warnings.catch_warnings()\n",
    "\n",
    "#%matplotlib inline\n",
    "#%pylab inline"
   ]
  },
  {
   "cell_type": "code",
   "execution_count": 2,
   "metadata": {
    "collapsed": false
   },
   "outputs": [],
   "source": [
    "#song_path = '/usr/labri/pmouawad/Documents/vmo-master/SILENCETRIMMED/42_anger.mir.wav'\n",
    "song_path = '/data/pmouawad/PythonPackages/42_fear.mir.wav'\n",
    "sr = 44100\n",
    "hop_length = 512\n",
    "\n",
    "tseries, sr = librosa.load(song_path, sr=sr)\n"
   ]
  },
  {
   "cell_type": "code",
   "execution_count": null,
   "metadata": {
    "collapsed": true
   },
   "outputs": [],
   "source": [
    "#setting embedding parameters Dimension dim and time delay tau.\n",
    "\n",
    "dim = 7 # by method of false-nearest neighbour - FNN\n",
    "tau = 18 # by method of first minimum mutual information - FMMI\n",
    "\n",
    "FMMI = tau"
   ]
  },
  {
   "cell_type": "code",
   "execution_count": null,
   "metadata": {
    "collapsed": true
   },
   "outputs": [],
   "source": [
    "# Sample Entropy: measures the complexity of the time series, based on approximate entropy\n",
    "sampEnt = sampen(tseries, emb_dim=dim)"
   ]
  },
  {
   "cell_type": "code",
   "execution_count": null,
   "metadata": {
    "collapsed": true
   },
   "outputs": [],
   "source": [
    "# D2: correlation dimension: a measure of the fractal dimension of a time series, which is related to complexity\n",
    "\n",
    "D2 = corr_dim(tseries, emb_dim=dim)"
   ]
  },
  {
   "cell_type": "code",
   "execution_count": null,
   "metadata": {
    "collapsed": true
   },
   "outputs": [],
   "source": [
    "# compute the Lyapunov Exponent from the time series using Rosenstein's method.\n",
    "LE = lyap_r(tseries, emb_dim=dim,tau=tau)"
   ]
  },
  {
   "cell_type": "code",
   "execution_count": null,
   "metadata": {
    "collapsed": true
   },
   "outputs": [],
   "source": [
    "DFA = dfa(tseries)\n"
   ]
  },
  {
   "cell_type": "code",
   "execution_count": 19,
   "metadata": {
    "collapsed": false
   },
   "outputs": [
    {
     "name": "stdout",
     "output_type": "stream",
     "text": [
      "[Platform 'NVIDIA CUDA']\n",
      "Vendor: NVIDIA Corporation\n",
      "Version: OpenCL 1.1 CUDA 4.2.1\n",
      "Profile: FULL_PROFILE\n",
      "Extensions: cl_khr_byte_addressable_store cl_khr_icd cl_khr_gl_sharing cl_nv_compiler_options cl_nv_device_attribute_query cl_nv_pragma_unroll \n",
      "\n",
      "\n",
      "[Device 'NVS 300']\n",
      "Vendor: NVIDIA Corporation\n",
      "Type: 4\n",
      "Version: OpenCL 1.0 CUDA\n",
      "Profile: FULL_PROFILE\n",
      "Max Clock Frequency: 1230\n",
      "Global Mem Size: 536084480\n",
      "Address Bits: 32\n",
      "Max Compute Units: 2\n",
      "Max Work Group Size: 512\n",
      "Max Work Item Dimensions: 3\n",
      "Max Work Item Sizes: [512, 512, 64]\n",
      "Local Mem Size: 16384\n",
      "Max Mem Alloc Size: 134217728\n",
      "Extensions: cl_khr_byte_addressable_store cl_khr_icd cl_khr_gl_sharing cl_nv_compiler_options cl_nv_device_attribute_query cl_nv_pragma_unroll  cl_khr_global_int32_base_atomics cl_khr_global_int32_extended_atomics cl_khr_local_int32_base_atomics cl_khr_local_int32_extended_atomics \n",
      "\n",
      "\n",
      "RQA Result:\n",
      "-----------\n",
      "Minimum diagonal line length (L_min): 2\n",
      "Minimum vertical line length (V_min): 2\n",
      "Minimum white vertical line length (W_min): 2\n",
      "\n",
      "Recurrence rate (RR): 0.910131\n",
      "Determinism (DET): 0.994896\n",
      "Average diagonal line length (L): 18.646224\n",
      "Longest diagonal line length (L_max): 3750\n",
      "Divergence (DIV): 0.000267\n",
      "Entropy diagonal lines (L_entr): 2.370077\n",
      "Laminarity (LAM): 0.997091\n",
      "Trapping time (TT): 29.180010\n",
      "Longest vertical line length (V_max): 3008\n",
      "Entropy vertical lines (V_entr): 2.745172\n",
      "Average white vertical line length (W): 4.349009\n",
      "Longest white vertical line length (W_max): 2964\n",
      "Entropy white vertical lines (W_entr): 1.902346\n",
      "\n",
      "Ratio determinism / recurrence rate (DET/RR): 1.093135\n",
      "Ratio laminarity / determinism (LAM/DET): 1.002206\n",
      "\n"
     ]
    }
   ],
   "source": [
    "settings1 = Settings(tseries,\n",
    "                        embedding_dimension=dim,\n",
    "                        time_delay=tau,\n",
    "                        neighbourhood=FixedRadius(1.0),\n",
    "                        similarity_measure=EuclideanMetric,\n",
    "                        theiler_corrector=1,\n",
    "                        min_diagonal_line_length=2,\n",
    "                        min_vertical_line_length=2,\n",
    "                        min_white_vertical_line_length=2)\n",
    "\n",
    "#RPmat = Baseline(settings1, verbose=True)\n",
    "#mat = RPmat.create_matrix()\n",
    "#print(mat)\n",
    "\n",
    "\n",
    "computation = RQAComputation.create(settings1,verbose=True)\n",
    "\n",
    "result = computation.run()\n",
    "print(result)"
   ]
  },
  {
   "cell_type": "code",
   "execution_count": 25,
   "metadata": {
    "collapsed": false
   },
   "outputs": [],
   "source": [
    "RR = result.recurrence_rate\n",
    "DET = result.determinism\n",
    "L = result.average_diagonal_line\n",
    "L_max = result.longest_diagonal_line\n",
    "DIV = result.divergence\n",
    "L_entr = result.entropy_diagonal_lines\n",
    "LAM = result.laminarity\n",
    "TT = result.trapping_time\n",
    "V_max = result.longest_vertical_line\n",
    "V_entr = result.entropy_vertical_lines\n",
    "W = result.average_white_vertical_line\n",
    "W_max = result.longest_white_vertical_line\n",
    "W_entr = result.entropy_white_vertical_lines\n",
    "\n",
    "DET_RR = DET / RR\n",
    "LAM_DET = LAM / DET\n",
    "\n",
    "\n"
   ]
  },
  {
   "cell_type": "code",
   "execution_count": null,
   "metadata": {
    "collapsed": true
   },
   "outputs": [],
   "source": [
    "import csv\n",
    "#Assuming complexity_measures is a flat list\n",
    "with open('MAV_NLD.csv', 'a') as csvfile:\n",
    "    fieldnames=['Sound','FMMI','D2', 'LE', 'SAMPENT', 'DFA', 'RR', 'DET', 'L', 'L_max', 'DIV', 'L_entr', 'LAM', 'TT', 'V_max', 'V_entr', 'DET_RR','LAM_DET', 'W', 'W_max', 'W_entr']    \n",
    "    writer = csv.DictWriter(csvfile, delimiter=',', fieldnames=fieldnames)\n",
    "    writer.writerow({'Sound': '42_fear','FMMI':FMMI, 'D2':D2, 'LE':LE, 'SAMPENT': sampEnt, 'DFA': DFA, 'RR': RR, 'DET': DET,'L': L, 'L_max': L_max, 'DIV': DIV, 'L_entr': L_entr, 'LAM': LAM, 'TT':TT, 'V_max': V_max, 'V_entr': V_entr, 'DET_RR': DET_RR, 'LAM_DET': LAM_DET, 'W': W, 'W_max': W_max, 'W_entr': W_entr})    \n",
    "  "
   ]
  }
 ],
 "metadata": {
  "kernelspec": {
   "display_name": "Python 2",
   "language": "python",
   "name": "python2"
  },
  "language_info": {
   "codemirror_mode": {
    "name": "ipython",
    "version": 2
   },
   "file_extension": ".py",
   "mimetype": "text/x-python",
   "name": "python",
   "nbconvert_exporter": "python",
   "pygments_lexer": "ipython2",
   "version": "2.7.6"
  }
 },
 "nbformat": 4,
 "nbformat_minor": 0
}
