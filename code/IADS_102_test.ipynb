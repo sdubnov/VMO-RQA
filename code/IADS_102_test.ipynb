{
 "metadata": {
  "name": "",
  "signature": "sha256:bd867dc2d23b7a0ebebc776dce8bf1a76e5bbb4698d7ff4d63a4ab9e6d8ffd94"
 },
 "nbformat": 3,
 "nbformat_minor": 0,
 "worksheets": [
  {
   "cells": [
    {
     "cell_type": "code",
     "collapsed": false,
     "input": [
      "import vmo\n",
      "import vmo.analysis as van\n",
      "import vmo.analysis.segmentation as vse\n",
      "import numpy as np\n",
      "np.set_printoptions(threshold='nan')\n",
      "\n",
      "from collections import Counter\n",
      "\n",
      "import math\n",
      "import matplotlib as mpl \n",
      "import matplotlib.pyplot as plt\n",
      "import matplotlib.cm as cm\n",
      "from matplotlib import patches\n",
      "import librosa\n",
      "\n",
      "import warnings\n",
      "warnings.filterwarnings('ignore')\n",
      "warnings.catch_warnings()\n",
      "\n",
      "%matplotlib inline"
     ],
     "language": "python",
     "metadata": {},
     "outputs": [],
     "prompt_number": 112
    },
    {
     "cell_type": "code",
     "collapsed": false,
     "input": [
      "song_path = './102.mir.wav'\n",
      "sr = 44100\n",
      "hop_length = 512\n",
      "\n",
      "y, sr = librosa.load(song_path, sr=sr)\n",
      "cqt = librosa.core.cqt(y, sr=sr, hop_length=hop_length)\n",
      "print cqt.shape"
     ],
     "language": "python",
     "metadata": {},
     "outputs": [
      {
       "output_type": "stream",
       "stream": "stdout",
       "text": [
        "(84, 439)\n"
       ]
      }
     ],
     "prompt_number": 113
    },
    {
     "cell_type": "code",
     "collapsed": false,
     "input": [
      "cqt_stack= librosa.feature.stack_memory(cqt, n_steps=3)\n",
      "print cqt.shape\n",
      "print cqt_stack.shape\n",
      "#feature = cqt.T\n",
      "feature = cqt_stack.T\n",
      "print feature.shape"
     ],
     "language": "python",
     "metadata": {},
     "outputs": [
      {
       "output_type": "stream",
       "stream": "stdout",
       "text": [
        "(84, 439)\n",
        "(252, 439)\n",
        "(439, 252)\n"
       ]
      }
     ],
     "prompt_number": 122
    },
    {
     "cell_type": "code",
     "collapsed": false,
     "input": [
      "r = (0, 1.01, 0.01)\n",
      "threshold = vmo.find_threshold(feature, r=r, dim=feature.shape[1])\n",
      "print cqt.shape[1]\n",
      "print cqt_stack.shape[1]\n",
      "print(threshold[0][1])"
     ],
     "language": "python",
     "metadata": {},
     "outputs": [
      {
       "output_type": "stream",
       "stream": "stdout",
       "text": [
        "439\n",
        "439\n",
        "0.14\n"
       ]
      }
     ],
     "prompt_number": 123
    },
    {
     "cell_type": "code",
     "collapsed": false,
     "input": [
      "ideal_t = threshold[0][1]\n",
      "x_t = [i[1] for i in threshold[1]]\n",
      "y_t = [i[0] for i in threshold[1]]\n",
      "\n",
      "plt.figure(figsize=(12,2))\n",
      "plt.plot(x_t, y_t, linewidth = 2)\n",
      "plt.hold('on')\n",
      "plt.vlines(ideal_t, 0.0, max(y_t), colors = 'k',linestyle = 'dashed',linewidth = 2)\n",
      "plt.grid('on')\n",
      "plt.legend(['IR values', 'Selected threshold'], loc=2)\n",
      "plt.title('Threshold value versus Information Rate', fontsize = 18)\n",
      "plt.xlabel('Threshold Value',fontsize = 14)\n",
      "plt.ylabel('Summed IR', fontsize = 14)\n",
      "plt.tight_layout()"
     ],
     "language": "python",
     "metadata": {},
     "outputs": [
      {
       "metadata": {},
       "output_type": "display_data",
       "png": "[encoded data removed]",
       "text": [
        "<matplotlib.figure.Figure at 0x109c98710>"
       ]
      }
     ],
     "prompt_number": 124
    },
    {
     "cell_type": "code",
     "collapsed": false,
     "input": [
      "cqt_vmo = vmo.build_oracle(feature, flag='a', threshold=ideal_t, dim=feature.shape[1])\n",
      "methods = ['sfx', 'lrs', 'rsfx']\n",
      "\n",
      "print cqt_vmo.n_states\n",
      "#print(cqt_stack.T)\n",
      "\n",
      "plt.figure(figsize = (12,4))\n",
      "for i,m in enumerate(methods):\n",
      "    recurrence_vmo = van.create_selfsim(cqt_vmo, method=m)\n",
      "    \n",
      "    plt.subplot(1,3,i+1)\n",
      "    plt.imshow(recurrence_vmo, interpolation='nearest', aspect='auto', cmap='Greys')\n",
      "    \n",
      "    plt.title(m, fontsize=14)\n",
      "plt.tight_layout()"
     ],
     "language": "python",
     "metadata": {},
     "outputs": [
      {
       "output_type": "stream",
       "stream": "stdout",
       "text": [
        "440\n"
       ]
      },
      {
       "metadata": {},
       "output_type": "display_data",
       "png": "[encoded data removed]",
       "text": [
        "<matplotlib.figure.Figure at 0x105abb190>"
       ]
      }
     ],
     "prompt_number": 125
    },
    {
     "cell_type": "code",
     "collapsed": false,
     "input": [],
     "language": "python",
     "metadata": {},
     "outputs": [],
     "prompt_number": 117
    },
    {
     "cell_type": "code",
     "collapsed": false,
     "input": [],
     "language": "python",
     "metadata": {},
     "outputs": []
    }
   ],
   "metadata": {}
  }
 ]
}